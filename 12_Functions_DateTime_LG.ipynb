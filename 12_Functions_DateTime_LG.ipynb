{
  "nbformat": 4,
  "nbformat_minor": 0,
  "metadata": {
    "colab": {
      "provenance": [],
      "include_colab_link": true
    },
    "kernelspec": {
      "name": "python3",
      "display_name": "Python 3"
    },
    "language_info": {
      "name": "python"
    }
  },
  "cells": [
    {
      "cell_type": "markdown",
      "metadata": {
        "id": "view-in-github",
        "colab_type": "text"
      },
      "source": [
        "<a href=\"https://colab.research.google.com/github/lgoadby/data-and-python/blob/main/12_Functions_DateTime_LG.ipynb\" target=\"_parent\"><img src=\"https://colab.research.google.com/assets/colab-badge.svg\" alt=\"Open In Colab\"/></a>"
      ]
    },
    {
      "cell_type": "markdown",
      "metadata": {
        "id": "7iQyKP-SQiw1"
      },
      "source": [
        "# User-defined functions using datetime library\n",
        "\n",
        "---\n"
      ]
    },
    {
      "cell_type": "markdown",
      "metadata": {
        "id": "Vi93h5I4QnKs"
      },
      "source": [
        "When working with dates and times, fairly common in data sets, we need to be able to extract certain bits of information.  \n",
        "\n",
        "In Python, as with other languages, dates and times are stored in a data structure that combines the two together and stores the information as a number of seconds since a start point (often 1st January 1900).  This is obviously a large number but every bit of information about a date can be extracted from it and used to give a wide range of information.  \n",
        "\n",
        "Have a go at the exercises below to use a selection of datetime functions and return a new bit of data from each, to be printed by the caller.\n",
        "\n",
        "Before you can use datetime functions you will need to import them. Import the datetime functions like this:\n",
        "\n",
        "`from datetime import datetime`  \n",
        "\n",
        "\n",
        "For more information about datetime functions visit [w3Schools-Python datetime](https://www.w3schools.com/python/python_datetime.asp) and [Python docs](https://docs.python.org/3/library/datetime.html)"
      ]
    },
    {
      "cell_type": "markdown",
      "metadata": {
        "id": "MIDLi7CNR034"
      },
      "source": [
        "---\n",
        "### Exercise 1 - print current date and time\n",
        "\n",
        "Write a function that will return the date and time now.  The caller will print it.  \n",
        "\n",
        "*Hint:  the format has been added for you, the other exercises will follow a similar format.   Always remember to import datetime from datetime as shown below*"
      ]
    },
    {
      "cell_type": "code",
      "metadata": {
        "id": "gS6GJdXbQfHp",
        "colab": {
          "base_uri": "https://localhost:8080/"
        },
        "outputId": "35b8e6db-68cc-4577-aac9-a51b4282e236"
      },
      "source": [
        "from datetime import datetime, timezone\n",
        "\n",
        "def get_datetime_now():\n",
        "\n",
        "  now_date_time = datetime.now()\n",
        "  print(\"Current date and time:\",now_date_time)\n",
        "\n",
        "get_datetime_now()"
      ],
      "execution_count": 12,
      "outputs": [
        {
          "output_type": "stream",
          "name": "stdout",
          "text": [
            "Current date and time: 2023-11-10 16:37:12.280178\n"
          ]
        }
      ]
    },
    {
      "cell_type": "markdown",
      "metadata": {
        "id": "Yy24sL0bUtpF"
      },
      "source": [
        "---\n",
        "Exercise 2 - print the current year\n",
        "\n",
        "Write a function that will return the current year.  The caller will print the year."
      ]
    },
    {
      "cell_type": "code",
      "metadata": {
        "id": "YqlQqPIqUtyr",
        "colab": {
          "base_uri": "https://localhost:8080/"
        },
        "outputId": "626fe52f-35b1-4cb2-da22-47bbe3878326"
      },
      "source": [
        "from datetime import datetime,timezone\n",
        "\n",
        "def get_current_year():\n",
        "\n",
        "  now_date_time = datetime.now()\n",
        "  print(\"Current year:\",now_date_time.year)\n",
        "\n",
        "get_current_year()\n"
      ],
      "execution_count": 11,
      "outputs": [
        {
          "output_type": "stream",
          "name": "stdout",
          "text": [
            "Current year: 2023\n"
          ]
        }
      ]
    },
    {
      "cell_type": "markdown",
      "metadata": {
        "id": "FzSVCaJKV1O1"
      },
      "source": [
        "---\n",
        "### Exercise 3 - print the current day of the week\n",
        "\n",
        "Write a function that will return the current day of the week.  The caller will print it."
      ]
    },
    {
      "cell_type": "code",
      "metadata": {
        "id": "OP4ZIXBWV1Yj",
        "colab": {
          "base_uri": "https://localhost:8080/"
        },
        "outputId": "e9faa3a1-0513-4fa2-be34-4a27032db853"
      },
      "source": [
        "from datetime import datetime,timezone\n",
        "\n",
        "def get_current_day_of_week():\n",
        "\n",
        "  now_date_time = datetime.now()\n",
        "  print(\"Current day of the week:\",now_date_time.strftime(\"%A\"))\n",
        "\n",
        "get_current_day_of_week()"
      ],
      "execution_count": 10,
      "outputs": [
        {
          "output_type": "stream",
          "name": "stdout",
          "text": [
            "Current day of the week: Friday\n"
          ]
        }
      ]
    },
    {
      "cell_type": "markdown",
      "metadata": {
        "id": "a8euCtdmWIDE"
      },
      "source": [
        "---\n",
        "### Exercise 4 - create a new date\n",
        "\n",
        "Write a function that will take 3 parameters, day, month, year (3 numbers that make a valid date) and will create, and return a new date.  The caller will print the date."
      ]
    },
    {
      "cell_type": "code",
      "metadata": {
        "id": "FbOFnTwnWILN",
        "colab": {
          "base_uri": "https://localhost:8080/"
        },
        "outputId": "a39dc47d-9841-4d75-de52-8b1c39be07b5"
      },
      "source": [
        "from datetime import datetime,timezone\n",
        "from random import randint\n",
        "\n",
        "def create_new_date():\n",
        "\n",
        "  random_year=randint(0,2023)\n",
        "  random_month=randint(1,12)\n",
        "\n",
        "  if random_month==2 and random_year%4!=0:\n",
        "    random_day=randint(1,28)\n",
        "  elif random_month==2 and random_year%4==0:\n",
        "    random_day=randint(1,29)\n",
        "  elif (random_month==9 or random_month==4 or random_month==6 or random_month==11):\n",
        "    random_day=randint(1,30)\n",
        "  elif (random_month==1 or random_month==3 or random_month==5 or random_month==7 or random_month==8 or random_month==9 or random_month==10 or random_month==12):\n",
        "    random_day=randint(1,31)\n",
        "\n",
        "  random_date=datetime(random_year,random_month,random_day)\n",
        "\n",
        "  print(random_date)\n",
        "\n",
        "create_new_date()"
      ],
      "execution_count": 20,
      "outputs": [
        {
          "output_type": "stream",
          "name": "stdout",
          "text": [
            "1264-10-10 00:00:00\n"
          ]
        }
      ]
    },
    {
      "cell_type": "markdown",
      "metadata": {
        "id": "f5SKVuE0WfcE"
      },
      "source": [
        "---\n",
        "### Exercise 5 - create a valid date\n",
        "\n",
        "Write a function that will take 3 parameters, day, month, year (3 numbers) and will:  \n",
        "*   check that the month is between 1 and 12  \n",
        "*   check that the day is valid for the month (e.g. if the month is 2, then the day must be between 1 and 28 (don't worry about leap years for the moment)  \n",
        "*   if the date is not valid, print an error message and return None (which the caller will print)  \n",
        "*   if the date is valid, store it in a new variable, return the variable and the caller will print it."
      ]
    },
    {
      "cell_type": "code",
      "metadata": {
        "id": "gclt-f9-XfdG",
        "colab": {
          "base_uri": "https://localhost:8080/"
        },
        "outputId": "19cd0880-5abf-4c2d-ef4a-f4a8d10ad149"
      },
      "source": [
        "def create_valid_date():\n",
        "\n",
        "  day=int(input(\"Enter the day of the month:\"))\n",
        "  month=int(input(\"Enter the month (1-12):\"))\n",
        "  year=int(input(\"Enter year:\"))\n",
        "\n",
        "  if month==2 and (day<1 or day>28) and year%4!=0:\n",
        "    print(\"Date is not valid; day for this month must be between 1-28\")\n",
        "  elif month==2 and (day<1 or day>29) and year%4==0:\n",
        "    print(\"Date is not valid; day for this month must be between 1-29\")\n",
        "  elif (month==9 or month==4 or month==6 or month==11) and (day<1 or day>30):\n",
        "    print(\"Date is not valid; day for this month must be between 1-30\")\n",
        "  elif (month==1 or month==3 or month==5 or month==7 or month==8 or month==9 or month==10 or month==12) and (day<1 or day>31):\n",
        "    print(\"Date is not valid; day for this month must be between 1-31\")\n",
        "  elif month<1 or month>12:\n",
        "    print(\"Date is not valid, month must be between 1-12\")\n",
        "  else:\n",
        "    print(day,\":\",month,\":\",year)\n",
        "\n",
        "create_valid_date()"
      ],
      "execution_count": null,
      "outputs": [
        {
          "output_type": "stream",
          "name": "stdout",
          "text": [
            "Enter the day of the month:29\n",
            "Enter the month (1-12):2\n",
            "Enter year:2000\n",
            "29 : 2 : 2000\n"
          ]
        }
      ]
    },
    {
      "cell_type": "markdown",
      "metadata": {
        "id": "js7fy2HWXfm2"
      },
      "source": [
        "---\n",
        "### Exercise 6 - is it a leap year?\n",
        "\n",
        "Write a function that will take a date as a parameter (you will need to create the date variable before calling the function) and will determine if it is a leap year, returning True or False.\n",
        "\n",
        "*Hint:  a leap year is a year that is divisible by 4 but the centuries (1900, 2000, etc are only leap years if they are divisible by 400)*"
      ]
    },
    {
      "cell_type": "code",
      "metadata": {
        "id": "KY1jtf3lX_ps",
        "colab": {
          "base_uri": "https://localhost:8080/"
        },
        "outputId": "54d5fe38-5193-40df-e7dd-fea4aeee1164"
      },
      "source": [
        "from datetime import datetime\n",
        "\n",
        "def is_leap_year():\n",
        "\n",
        "  check_date=datetime(2000,12,15)\n",
        "  check_year=int(check_date.strftime(\"%Y\"))\n",
        "\n",
        "  if check_year%4==0 and check_year%100!=0:\n",
        "    print(check_year,\"is a leap year\")\n",
        "  elif (check_year%400==0 and check_year%100==0):\n",
        "    print(check_year,\"is a leap year\")\n",
        "  else:\n",
        "    print(check_year,\"is not a leap year\")\n",
        "\n",
        "is_leap_year()"
      ],
      "execution_count": 8,
      "outputs": [
        {
          "output_type": "stream",
          "name": "stdout",
          "text": [
            "2000 is a leap year\n"
          ]
        }
      ]
    },
    {
      "cell_type": "markdown",
      "metadata": {
        "id": "9BuRDi08YAO0"
      },
      "source": [
        "---\n",
        "### Exercise 7 - display parts of date/time\n",
        "\n",
        "Write a function that will take a date and print from it the following:  \n",
        "*  given date and time  \n",
        "*  year (in full)\n",
        "*  month (as a number)\n",
        "*  month name\n",
        "*  week number of the year  \n",
        "*  weekday of the week (as a number)  \n",
        "*  day of year  \n",
        "*  day of the month  \n",
        "*  day of week (as a name)  \n",
        "\n",
        "*Hint:  see w3Schools for [strftime reference](https://www.w3schools.com/python/python_datetime.asp)*\n",
        "\n"
      ]
    },
    {
      "cell_type": "code",
      "metadata": {
        "id": "zl-37Ez9ahym",
        "colab": {
          "base_uri": "https://localhost:8080/"
        },
        "outputId": "ee784d4b-077b-4645-f445-25a9a657eda3"
      },
      "source": [
        "from datetime import datetime,timezone\n",
        "\n",
        "def time_and_information():\n",
        "\n",
        "  date_time = datetime(1996,1,23)\n",
        "\n",
        "  print(\"Given date and time:\",date_time)\n",
        "  print(\"Year:\",date_time.strftime(\"%Y\"))\n",
        "  print(\"Month as a number:\",date_time.strftime(\"%m\"))\n",
        "  print(\"Month name:\",date_time.strftime(\"%B\"))\n",
        "  print(\"Week number of the year:\",date_time.strftime(\"%W\"))\n",
        "  print(\"Day of the week (number):\",date_time.strftime(\"%w\"))\n",
        "  print(\"Day of the year:\",date_time.strftime(\"%j\"))\n",
        "  print(\"Day of the month:\",date_time.strftime(\"%d\"))\n",
        "  print(\"Day of the week (name):\",date_time.strftime(\"%A\"))\n",
        "\n",
        "time_and_information()"
      ],
      "execution_count": 6,
      "outputs": [
        {
          "output_type": "stream",
          "name": "stdout",
          "text": [
            "Given date and time: 1996-01-23 00:00:00\n",
            "Year: 1996\n",
            "Month as a number: 01\n",
            "Month name: January\n",
            "Week number of the year: 04\n",
            "Day of the week (number): 2\n",
            "Day of the year: 023\n",
            "Day of the month: 23\n",
            "Day of the week (name): Tuesday\n"
          ]
        }
      ]
    },
    {
      "cell_type": "markdown",
      "metadata": {
        "id": "_rpTIoSDaiBj"
      },
      "source": [
        "---\n",
        "### Exercise 8 - next 6 days\n",
        "\n",
        "Write a function that will take a date and generate the dates of the following 6 days.  It should print each of the 6 days in the form:  \n",
        "\n",
        "DAY OF THE WEEK, MONTH NAME, FULL YEAR\n",
        "\n",
        "Hint:  to generate the days, use the function datetime.timedelta(), there is a good example of its use [here](https://www.geeksforgeeks.org/python-datetime-timedelta-function/)  "
      ]
    },
    {
      "cell_type": "code",
      "metadata": {
        "id": "1d-oXqLLb0vX",
        "colab": {
          "base_uri": "https://localhost:8080/"
        },
        "outputId": "befe00c4-d54b-4065-98ad-7ac825ba9cc2"
      },
      "source": [
        "from datetime import datetime, timedelta\n",
        "\n",
        "def generate_next_six_days():\n",
        "\n",
        "  date=datetime(1996,1,23)\n",
        "  print(date)\n",
        "\n",
        "  for i in range(1,6):\n",
        "    date=date+timedelta(days=1)\n",
        "    print(date)\n",
        "\n",
        "generate_next_six_days()"
      ],
      "execution_count": null,
      "outputs": [
        {
          "output_type": "stream",
          "name": "stdout",
          "text": [
            "1996-01-23 00:00:00\n",
            "1996-01-24 00:00:00\n",
            "1996-01-25 00:00:00\n",
            "1996-01-26 00:00:00\n",
            "1996-01-27 00:00:00\n",
            "1996-01-28 00:00:00\n"
          ]
        }
      ]
    },
    {
      "cell_type": "markdown",
      "metadata": {
        "id": "22Rhwx2Sb1Ey"
      },
      "source": [
        "---\n",
        "### Optional extra practice\n",
        "\n",
        "There are some similar and some more challenging exercises [here](https://www.w3resource.com/python-exercises/date-time-exercise/) if you would like to practice more. The site has its own editor."
      ]
    }
  ]
}