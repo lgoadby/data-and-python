{
  "nbformat": 4,
  "nbformat_minor": 0,
  "metadata": {
    "colab": {
      "provenance": [],
      "include_colab_link": true
    },
    "kernelspec": {
      "name": "python3",
      "display_name": "Python 3"
    },
    "language_info": {
      "name": "python"
    }
  },
  "cells": [
    {
      "cell_type": "markdown",
      "metadata": {
        "id": "view-in-github",
        "colab_type": "text"
      },
      "source": [
        "<a href=\"https://colab.research.google.com/github/lgoadby/data-and-python/blob/main/13_Lists_and_Tuples_LG.ipynb\" target=\"_parent\"><img src=\"https://colab.research.google.com/assets/colab-badge.svg\" alt=\"Open In Colab\"/></a>"
      ]
    },
    {
      "cell_type": "markdown",
      "metadata": {
        "id": "Z-M-RCWATK71"
      },
      "source": [
        "# Lists and tuples\n",
        "\n",
        "Often we need to store a number of single items of data together so that they can be processed together. This might be because all the data refers to one person (e.g. name, age, gender, etc) OR it might be because we have a set of data (e.g. all the items that should be displayed in a drop down list, such as all the years from this year back to 100 years ago so that someone can select their year of birth)\n",
        "\n",
        "Python has a range of data structures available including:\n",
        "*   lists  \n",
        "*   tuples  \n",
        "*   dictionaries  \n",
        "*   sets\n",
        "\n",
        "This worksheet looks at lists and tuples.\n",
        "\n",
        "## List\n",
        "A list is a set of related, individual data objects, that are indexed and can be processed as a whole, as subsets or as individual items.  Lists are stored, essentially, as contiguous items in memory so that access can be as quick as possible.  However, they are mutable (they can be changed after they are created and stored) and so those mechanisms need to include extra functionality to deal with changing list sizes.\n",
        "\n",
        "## Tuple\n",
        "Essentially the same as a list but it is immutable.  Once it has been created it can't be changed.  It is stored in memory as contiguous items, with the size required being fixed right from the start.  This makes it faster to access.\n",
        "\n",
        "The code below will create two lists and a tuple.\n",
        "*   the first list contains 1000 random numbers between 1 and 100\n",
        "*   the second list is of random length (up to 5000) and each item is one of the 9 characteristics that are protected under the Equality Act in the UK.\n",
        "*   the tuple contains the 9 protected characteristics\n",
        "\n",
        "Before you start the exercises, run the code below.  It will generate the lists and tuple so that you can use them in the exercises.  If you need to recreate the lists again (because you have changed them and need to work on the originals, just run this cell again).\n",
        "\n",
        "***Note:***  *a list variable contains a reference to the start of the list in memory, rather than storing the list itself.  This means that if you assign the list to another variable (to make a copy), it will only copy across the reference.  If you change the copy, you change the original list.*\n",
        "\n",
        "*If you need to make a copy of the list you will need to use a loop to create a new list and copy all items across.*"
      ]
    },
    {
      "cell_type": "code",
      "metadata": {
        "id": "BDRckXeQXFMT"
      },
      "source": [
        "from random import randint, choice\n",
        "\n",
        "def get_num_list():\n",
        "  num_list = [randint(1,100) for n in range(1000)]\n",
        "  return num_list\n",
        "\n",
        "def get_protected_characteristics():\n",
        "  characteristics_tuple = ('age','disability','gender reassignment','marriage and civil partnership','pregnancy and maternity','race','religion or belief','sex','sexual orientation')\n",
        "  return characteristics_tuple\n",
        "\n",
        "def get_protected_characteristic_list(protected_characteristics):\n",
        "  char_list = [choice(protected_characteristics) for ch in range(randint(1,5000))]\n",
        "  return char_list\n",
        "\n",
        "nums = get_num_list()\n",
        "protected_characteristics = get_protected_characteristics()\n",
        "characteristics = get_protected_characteristic_list(protected_characteristics)"
      ],
      "execution_count": null,
      "outputs": []
    },
    {
      "cell_type": "markdown",
      "metadata": {
        "id": "xXT38-4ZV45n"
      },
      "source": [
        "## The exercises below will use the lists:  \n",
        "*   **nums** (a list of between 1 and 1000 random numbers, each number is between 0 and 1000)\n",
        "*   **characteristics** (a list of 5000 random protected_characteristics)\n",
        "\n",
        "and the tuple:\n",
        "*  **protected_characteristics** (a set of the 9 protected characteristics identified in the Equality Act)\n",
        "\n",
        "## You can run the cell above any number of times to generate new lists."
      ]
    },
    {
      "cell_type": "markdown",
      "metadata": {
        "id": "Ft0dXl7fUuaK"
      },
      "source": [
        "---\n",
        "### Exercise 1 - list head, tail and shape\n",
        "\n",
        "Write a function, **describe_list()** which will:\n",
        "*  print the length of the list `nums`\n",
        "*  print the first 10 items in `nums`  \n",
        "*  print the last 5 items in `nums`"
      ]
    },
    {
      "cell_type": "code",
      "metadata": {
        "id": "jUcZD7mmTJdA",
        "colab": {
          "base_uri": "https://localhost:8080/"
        },
        "outputId": "aa27301a-a0cb-4e6f-b9c7-894e0e7a7404"
      },
      "source": [
        "def describe_list():\n",
        "\n",
        "  print(\"Length of list:\",len(nums))\n",
        "  print(\"First 10 items in list:\",nums[:10])\n",
        "  print(\"Last 5 items in list:\",nums[-5:])\n",
        "\n",
        "describe_list()"
      ],
      "execution_count": null,
      "outputs": [
        {
          "output_type": "stream",
          "name": "stdout",
          "text": [
            "Length of list: 1000\n",
            "First 10 items in list: [47, 76, 15, 24, 72, 77, 40, 100, 14, 34]\n",
            "Last 5 items in list: [7, 36, 9, 9, 88]\n"
          ]
        }
      ]
    },
    {
      "cell_type": "markdown",
      "metadata": {
        "id": "yNWg08k6bXv0"
      },
      "source": [
        "---\n",
        "### Exercise 2 - show tuple items\n",
        "\n",
        "Write a function which will:\n",
        "*   use a loop to print the list of protected characteristics from the `protected_characteristics` tuple.\n"
      ]
    },
    {
      "cell_type": "code",
      "metadata": {
        "id": "P2HnCG9pb1BS",
        "colab": {
          "base_uri": "https://localhost:8080/"
        },
        "outputId": "550d976f-f22c-4d45-c2a2-419da36b7791"
      },
      "source": [
        "def protected_characteristics_list():\n",
        "\n",
        "  for i in protected_characteristics:\n",
        "    print(i)\n",
        "\n",
        "protected_characteristics_list()"
      ],
      "execution_count": null,
      "outputs": [
        {
          "output_type": "stream",
          "name": "stdout",
          "text": [
            "age\n",
            "disability\n",
            "gender reassignment\n",
            "marriage and civil partnership\n",
            "pregnancy and maternity\n",
            "race\n",
            "religion or belief\n",
            "sex\n",
            "sexual orientation\n"
          ]
        }
      ]
    },
    {
      "cell_type": "markdown",
      "metadata": {
        "id": "RTSuQZs4b1JU"
      },
      "source": [
        "---\n",
        "### Exercise 3 - list a random subset\n",
        "\n",
        "Write a function which will:\n",
        "*  calculate the position of the middle item in the `characteristics` list   \n",
        "(*Hint: use len() to help with this*)\n",
        "*  calculate the position of the item that is 5 places before the middle item\n",
        "*  calculate the position of the item that is 5 places after the middle item\n",
        "*  print the part of the list that includes the items from 5 places before to 5 places after.  \n",
        "\n",
        "Expected output:  \n",
        "Your list will include 11 items."
      ]
    },
    {
      "cell_type": "code",
      "metadata": {
        "id": "OwhFnH2kdC11",
        "colab": {
          "base_uri": "https://localhost:8080/"
        },
        "outputId": "3cad1ae9-39c3-4afb-fcea-783708d8e8e7"
      },
      "source": [
        "def random_subset():\n",
        "\n",
        "  middle_of_list=(len(characteristics))//2\n",
        "\n",
        "  five_before=middle_of_list-5\n",
        "  five_after=middle_of_list+5\n",
        "\n",
        "  print(characteristics[five_before:five_after+1])\n",
        "  print(\"Length of list:\",len(characteristics[five_before:five_after+1]))\n",
        "\n",
        "random_subset()"
      ],
      "execution_count": null,
      "outputs": [
        {
          "output_type": "stream",
          "name": "stdout",
          "text": [
            "['pregnancy and maternity', 'marriage and civil partnership', 'race', 'sex', 'age', 'marriage and civil partnership', 'age', 'race', 'sex', 'marriage and civil partnership', 'disability']\n",
            "Length of list: 11\n"
          ]
        }
      ]
    },
    {
      "cell_type": "markdown",
      "metadata": {
        "id": "KS0x3oFNePI9"
      },
      "source": [
        "---\n",
        "### Exercise 4 - create a copy\n",
        "\n",
        "Write a function which will: use a for loop to create a copy of the `nums` list:\n",
        "\n",
        "*   create a new, empty, list called **new_nums**  (*Hint: an empty list is [ ]*)\n",
        "*   use a for loop which uses the following syntax:  `for num in nums:`\n",
        "*   each time round the loop append `num` to `new_nums`  ( *`new_nums.append(num)`*)\n",
        "*   print the first 10 items of `new_nums`\n",
        "*   print the first 10 items of `nums`\n",
        "*   print the length of both lists"
      ]
    },
    {
      "cell_type": "code",
      "metadata": {
        "id": "mpK1Ip3we-uC",
        "colab": {
          "base_uri": "https://localhost:8080/"
        },
        "outputId": "bbf41f29-b58b-4860-94d1-151694104976"
      },
      "source": [
        "def create_a_copy():\n",
        "\n",
        "  new_nums=[]\n",
        "\n",
        "  for num in nums:\n",
        "    new_nums.append(num)\n",
        "\n",
        "  print(\"First 10 items in new_nums list:\",new_nums[:10])\n",
        "  print(\"First 10 items in nums list:\",nums[:10])\n",
        "\n",
        "  print(\"Length of new_nums list:\",len(new_nums))\n",
        "  print(\"Length of nums list:\",len(nums))\n",
        "\n",
        "create_a_copy()"
      ],
      "execution_count": null,
      "outputs": [
        {
          "output_type": "stream",
          "name": "stdout",
          "text": [
            "First 10 items in new_nums list: [47, 76, 15, 24, 72, 77, 40, 100, 14, 34]\n",
            "First 10 items in nums list: [47, 76, 15, 24, 72, 77, 40, 100, 14, 34]\n",
            "Length of new_nums list: 1000\n",
            "Length of nums list: 1000\n"
          ]
        }
      ]
    },
    {
      "cell_type": "markdown",
      "metadata": {
        "id": "deUIFWjRe-3G"
      },
      "source": [
        "\n",
        "\n",
        "```\n",
        "# This is formatted as code\n",
        "```\n",
        "\n",
        "---\n",
        "### Exercise 5 - count the occurrence of age in characteristics\n",
        "\n",
        "Write a function which will use the list method:\n",
        "\n",
        "`num_items = list_name.count(item)`\n",
        "\n",
        "to count the number of occurrences of 'age' in the `characteristics` list.  Print the result."
      ]
    },
    {
      "cell_type": "code",
      "metadata": {
        "id": "b9TrHQ9hfoIU",
        "colab": {
          "base_uri": "https://localhost:8080/"
        },
        "outputId": "e8e0812b-7f08-4bd5-83f6-a34b09b4392e"
      },
      "source": [
        "def count_occurrences_of_age():\n",
        "\n",
        "  num_items=characteristics.count('age')\n",
        "\n",
        "  print(\"Number of occurrences of 'age':\",num_items)\n",
        "\n",
        "count_occurrences_of_age()\n"
      ],
      "execution_count": null,
      "outputs": [
        {
          "output_type": "stream",
          "name": "stdout",
          "text": [
            "Number of occurrences of 'age': 239\n"
          ]
        }
      ]
    },
    {
      "cell_type": "markdown",
      "metadata": {
        "id": "zm2VI5RmfoSy"
      },
      "source": [
        "---\n",
        "### Exercise 6 - sort the nums list\n",
        "\n",
        "Write a function which will:\n",
        "*   call the function `get_num_list()` and store the result in a new list called **sort_nums**\n",
        "*   print the first, and last, 20 items in the `sort_nums` list\n",
        "*   use the `list_name.sort()` method to sort the `sort_nums` list into ascending order\n",
        "*   print the first, and last, 20 items again  \n",
        "*   use the `list_name.sort()` method again to sort the `sort_nums` list into descending order\n",
        "*   print the first, and last, 20 items again"
      ]
    },
    {
      "cell_type": "code",
      "metadata": {
        "id": "Fksgpj9JgWDs",
        "colab": {
          "base_uri": "https://localhost:8080/"
        },
        "outputId": "717f7cf4-2aa1-46d7-e3ba-9f3b556b9412"
      },
      "source": [
        "def sort_num_list():\n",
        "\n",
        "  sort_nums=get_num_list()\n",
        "  print(\"First 20 items:\",sort_nums[:20])\n",
        "  print(\"Last 20 items:\",sort_nums[-20:])\n",
        "\n",
        "  sort_nums.sort()\n",
        "  print(\"First 20 items (ascending):\",sort_nums[:20])\n",
        "  print(\"Last 20 items (ascending):\",sort_nums[-20:])\n",
        "\n",
        "  sort_nums.sort(reverse=True)\n",
        "  print(\"First 20 items (descending):\",sort_nums[:20])\n",
        "  print(\"Last 20 items (descending):\",sort_nums[-20:])\n",
        "\n",
        "sort_num_list()"
      ],
      "execution_count": null,
      "outputs": [
        {
          "output_type": "stream",
          "name": "stdout",
          "text": [
            "First 20 items: [58, 82, 76, 30, 1, 41, 22, 12, 6, 58, 34, 48, 51, 51, 38, 69, 15, 42, 32, 83]\n",
            "Last 20 items: [79, 27, 64, 93, 32, 33, 97, 52, 24, 39, 70, 60, 8, 36, 19, 8, 1, 41, 71, 99]\n",
            "First 20 items (ascending): [1, 1, 1, 1, 1, 1, 1, 1, 1, 1, 1, 2, 2, 2, 2, 2, 2, 2, 2, 2]\n",
            "Last 20 items (ascending): [99, 99, 99, 99, 99, 99, 99, 99, 100, 100, 100, 100, 100, 100, 100, 100, 100, 100, 100, 100]\n",
            "First 20 items (descending): [100, 100, 100, 100, 100, 100, 100, 100, 100, 100, 100, 100, 99, 99, 99, 99, 99, 99, 99, 99]\n",
            "Last 20 items (descending): [2, 2, 2, 2, 2, 2, 2, 2, 2, 1, 1, 1, 1, 1, 1, 1, 1, 1, 1, 1]\n"
          ]
        }
      ]
    },
    {
      "cell_type": "markdown",
      "metadata": {
        "id": "_OF-Xuj1UrW0"
      },
      "source": [
        "---\n",
        "### Exercise 7 - get statistics (max(), min(), sum() )\n",
        "\n",
        "Write a function which will:\n",
        "*   print the maximum and minimum numbers in the `nums` list  \n",
        "*   print the sum of the `nums` list\n",
        "*   calculate and print the average of the `nums` list (using `len()` to help)"
      ]
    },
    {
      "cell_type": "code",
      "metadata": {
        "id": "9YmYMenZVGod",
        "colab": {
          "base_uri": "https://localhost:8080/"
        },
        "outputId": "171f7c81-1237-4b3a-8c5a-450fe212b718"
      },
      "source": [
        "def get_statistics():\n",
        "\n",
        "  sum=0\n",
        "\n",
        "  for i in nums:\n",
        "    sum=sum+i\n",
        "  print(\"Sum:\",sum)\n",
        "\n",
        "  average=sum/(len(nums))\n",
        "  print(\"Average:\",average)\n",
        "\n",
        "get_statistics()"
      ],
      "execution_count": null,
      "outputs": [
        {
          "output_type": "stream",
          "name": "stdout",
          "text": [
            "Sum: 51018\n",
            "Average: 51.018\n"
          ]
        }
      ]
    },
    {
      "cell_type": "markdown",
      "metadata": {
        "id": "Mn4tHQ_KVbHa"
      },
      "source": [
        "---\n",
        "### Exercise 8 - percentage difference\n",
        "\n",
        "Write a function which will:\n",
        "*   generate a new list called **ex8_nums** using `get_num_list()`\n",
        "*   calculate and print the percentage difference between the first number in each list (as a percentage of the number in the nums list) (Hint:  find the difference between the two numbers, divide the difference by the number in `nums` and multiply by 100)\n",
        "*   calculate and print the percentage difference between the last numbers in each list in the same way\n",
        "*   calculate and print the percentage difference between the middle numbers in each list in the same way.\n",
        "*   calculate and print the percentage difference between the sums of each list in the same way"
      ]
    },
    {
      "cell_type": "code",
      "metadata": {
        "id": "nJCQjZIeZL0e",
        "colab": {
          "base_uri": "https://localhost:8080/"
        },
        "outputId": "2d623085-b38b-4387-b6a1-f23c7a314036"
      },
      "source": [
        "def percentage_differences():\n",
        "\n",
        "  ex8_nums=get_num_list()\n",
        "\n",
        "  first_difference=((ex8_nums[1]-nums[1])/nums[1])*(100)\n",
        "  print(\"Percentage difference between first numbers in each list (as a percentage of the number in the nums list):\",first_difference)\n",
        "\n",
        "  last_difference=((ex8_nums[999]-nums[999])/nums[999])*(100)\n",
        "  print(\"Percentage difference between last numbers in each list (as a percentage of the number in the nums list):\",last_difference)\n",
        "\n",
        "  middle_difference=((ex8_nums[500]-nums[500])/nums[500])*(100)\n",
        "  print(\"Percentage difference between middle numbers in each list (as a percentage of the number in the nums list):\",middle_difference)\n",
        "\n",
        "  sum_ex8_nums=0\n",
        "  for i in ex8_nums:\n",
        "    sum_ex8_nums=sum_ex8_nums+i\n",
        "\n",
        "  sum_nums=0\n",
        "  for i in nums:\n",
        "    sum_nums=sum_nums+i\n",
        "\n",
        "  sum_difference=((sum_ex8_nums-sum_nums)/sum_nums)*(100)\n",
        "  print(\"Percentage difference between the sum of the numbers in each list (as a percentage of the number in the nums list):\",sum_difference)\n",
        "\n",
        "percentage_differences()"
      ],
      "execution_count": null,
      "outputs": [
        {
          "output_type": "stream",
          "name": "stdout",
          "text": [
            "Percentage difference between first numbers in each list (as a percentage of the number in the nums list): -21.875\n",
            "Percentage difference between last numbers in each list (as a percentage of the number in the nums list): -41.57303370786517\n",
            "Percentage difference between middle numbers in each list (as a percentage of the number in the nums list): -94.73684210526315\n",
            "Percentage difference between the sum of the numbers in each list (as a percentage of the number in the nums list): 1.0359453489963057\n"
          ]
        }
      ]
    },
    {
      "cell_type": "markdown",
      "metadata": {
        "id": "HNs3lZmYawFO"
      },
      "source": [
        "---\n",
        "### Exercise 9 - characteristic counts\n",
        "\n",
        "Write a function which will:\n",
        "*  iterate through the `protected_characteristics` tuple and for each **characteristic**:\n",
        "*   *   count the number of occurrences of that `characteristic` in the `characteristics` list\n",
        "*   *   print the `protected_characteristic` and the **count**  \n",
        "\n",
        "Example expected output:\n",
        "\n",
        "age 100  \n",
        "disability 120  \n",
        "gender reassignment 120  \n",
        "marriage and civil partnership 111  \n",
        "pregnancy and maternity 103  \n",
        "race 106  \n",
        "religion or belief 95  \n",
        "sex 110  \n",
        "sexual orientation 113  \n",
        "\n",
        "Extra learning:  you can read [here](https://thispointer.com/python-how-to-pad-strings-with-zero-space-or-some-other-character/) how to justify the printed characteristic so that the output is organised into two columns as shown below:  \n",
        "![tabulated output](https://drive.google.com/uc?id=1CCXfX6K5ZeDefnq7vUsqxCDmqvcfY8Mz)\n",
        "\n",
        "\n",
        "\n"
      ]
    },
    {
      "cell_type": "code",
      "source": [
        "def characteristic_counts():\n",
        "\n",
        "  print(\"Protected Characteristic:\".ljust(35,' '),\"Frequency:\")\n",
        "\n",
        "  for i in protected_characteristics:\n",
        "    count=characteristics.count(i)\n",
        "    print(i.ljust(35,' '),count)\n",
        "\n",
        "characteristic_counts()"
      ],
      "metadata": {
        "colab": {
          "base_uri": "https://localhost:8080/"
        },
        "id": "uE2JZxhVoKWP",
        "outputId": "d36aa7cb-1746-4722-b23f-31c822701267"
      },
      "execution_count": null,
      "outputs": [
        {
          "output_type": "stream",
          "name": "stdout",
          "text": [
            "Protected Characteristic:           Frequency:\n",
            "age                                 203\n",
            "disability                          206\n",
            "gender reassignment                 200\n",
            "marriage and civil partnership      196\n",
            "pregnancy and maternity             204\n",
            "race                                193\n",
            "religion or belief                  169\n",
            "sex                                 186\n",
            "sexual orientation                  200\n"
          ]
        }
      ]
    },
    {
      "cell_type": "markdown",
      "metadata": {
        "id": "9Po7yQj-ds38"
      },
      "source": [
        "---\n",
        "### Exercise 10 - characteristics statistics\n",
        "\n",
        "Assuming that the `characteristics` list may have been taken from a study of cases that have been taken to court in relation to the Equality Act.  \n",
        "\n",
        "Write a function which will:\n",
        "\n",
        "*   find the most common characteristic resulting in court action, from this population\n",
        "*   print this in a message, e.g. The characteristic with the highest number of court cases is:  *characteristic*\n",
        "*   print the list of `protected_characteristics`, on one line if possible - see [here](https://www.geeksforgeeks.org/g-fact-25-print-single-multiple-variable-python/)\n",
        "*   ask the user to enter a characteristic that they would like to see statistics on and use a while loop to continue until the user has entered a valid characteristic\n",
        "*   print the characteristic, its frequency and the percentage that this frequency is of the whole population."
      ]
    },
    {
      "cell_type": "code",
      "metadata": {
        "id": "uk_I5z7UgbDs",
        "colab": {
          "base_uri": "https://localhost:8080/"
        },
        "outputId": "baf16409-6b54-48c7-f99d-068b81f9fe08"
      },
      "source": [
        "import statistics\n",
        "\n",
        "def most_common_characteristic():\n",
        "\n",
        "  highest_number=statistics.mode(characteristics)\n",
        "\n",
        "  print(\"The characteristic with the highest number of court cases is:\",highest_number)\n",
        "  print(*protected_characteristics,sep=', ')\n",
        "\n",
        "  view_characteristic=input(\"Please enter the characteristic you would like to view statistics on:\")\n",
        "  frequency_percentage=(characteristics.count(view_characteristic))/(len(characteristics))*100\n",
        "\n",
        "  while view_characteristic not in protected_characteristics:\n",
        "    print(\"You have not entered a valid characteristic, please try again:\")\n",
        "    view_characteristic=input(\"Please enter the characteristic you would like to view statistics on:\")\n",
        "  if view_characteristic in protected_characteristics:\n",
        "    print(\"Characteristic:\",view_characteristic,\"; Frequency:\",characteristics.count(view_characteristic),\"; Frequency percentage of whole population:\",frequency_percentage)\n",
        "\n",
        "most_common_characteristic()"
      ],
      "execution_count": 60,
      "outputs": [
        {
          "output_type": "stream",
          "name": "stdout",
          "text": [
            "The characteristic with the highest number of court cases is: disability\n",
            "age, disability, gender reassignment, marriage and civil partnership, pregnancy and maternity, race, religion or belief, sex, sexual orientation\n",
            "Please enter the characteristic you would like to view statistics on:race\n",
            "Characteristic: race ; Frequency: 193 ; Frequency percentage of whole population: 10.984632896983495\n"
          ]
        }
      ]
    }
  ]
}