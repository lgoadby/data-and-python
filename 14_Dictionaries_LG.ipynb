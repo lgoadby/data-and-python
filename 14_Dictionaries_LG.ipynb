{
  "nbformat": 4,
  "nbformat_minor": 0,
  "metadata": {
    "colab": {
      "provenance": [],
      "include_colab_link": true
    },
    "kernelspec": {
      "name": "python3",
      "display_name": "Python 3"
    },
    "language_info": {
      "name": "python"
    }
  },
  "cells": [
    {
      "cell_type": "markdown",
      "metadata": {
        "id": "view-in-github",
        "colab_type": "text"
      },
      "source": [
        "<a href=\"https://colab.research.google.com/github/lgoadby/data-and-python/blob/main/14_Dictionaries_LG.ipynb\" target=\"_parent\"><img src=\"https://colab.research.google.com/assets/colab-badge.svg\" alt=\"Open In Colab\"/></a>"
      ]
    },
    {
      "cell_type": "markdown",
      "metadata": {
        "id": "AiiF1h2X4PHP"
      },
      "source": [
        "# Dictionaries\n",
        "\n",
        "---\n",
        "\n",
        "A **dictionary** is a collection of dissimilar data stored together in one *record*. Each item of data has a  (or key) that describes its paired value.  \n",
        "\n",
        "Create a dictionary object by declaring the set of keys and values, e.g.:\n",
        "\n",
        "```\n",
        "   transport = {\n",
        "       \"type\":\"bus\",\n",
        "       \"numPassengers\":72,\n",
        "       \"colour\":\"blue\",\n",
        "       \"fuel\":\"diesel\"\n",
        "   }\n",
        "```\n",
        "\n",
        "To access a value in a dictionary, use its key:  \n",
        "\n",
        "```\n",
        "transport[\"type\"] = \"coach\"\n",
        "transport_type = transport[\"type\"]\n",
        "transport_colour = transport[\"colour\"]\n",
        "transport[\"fuel\"] = petrol\n",
        "```\n",
        "\n",
        "To add a new key/value pair to a dictionary, simply assign a value to a new key:  \n",
        "```\n",
        "transport[\"seats\"] = 54\n",
        "```\n",
        "\n",
        "The transport dictionary will now look like this:  \n",
        "```\n",
        "   transport = {\n",
        "       \"type\":\"bus\",\n",
        "       \"numPassengers\":72,\n",
        "       \"colour\":\"blue\",\n",
        "       \"fuel\":\"diesel\",\n",
        "       \"seats\":54\n",
        "   }\n",
        "```\n",
        "\n"
      ]
    },
    {
      "cell_type": "markdown",
      "metadata": {
        "id": "1uZ5kNWB6CqK"
      },
      "source": [
        "---\n",
        "### Exercise 1 - print dictionary\n",
        "\n",
        "Write a function which will:  \n",
        "\n",
        "*  create an empty dictionary for a person (name, age and postcode, with values \"\", 0 and \"\")\n",
        "*  ask the user for name, age and postcode and assign the values to the correct keys in the dictionary  \n",
        "*  print the dictionary\n",
        "\n",
        "Test input:  \n",
        "Jack Jones  \n",
        "16  \n",
        "AB5 3DF  \n",
        "\n",
        "Expected output:  \n",
        "```{'name':'Jack Jones', 'age':16, 'postcode':'AB5 3DF'}```"
      ]
    },
    {
      "cell_type": "code",
      "metadata": {
        "id": "Ac7VQTj94Mrc",
        "colab": {
          "base_uri": "https://localhost:8080/"
        },
        "outputId": "c3095bd8-2105-41ce-cc0f-947a89b4600f"
      },
      "source": [
        "def print_dictionary():\n",
        "\n",
        "  dictionary={\n",
        "      \"name\":\"\",\n",
        "      \"age\":0,\n",
        "      \"postcode\":\"\"\n",
        "  }\n",
        "\n",
        "  dictionary[\"name\"]=input(\"Please enter your name:\")\n",
        "  dictionary[\"age\"]=int(input(\"Please enter your age:\"))\n",
        "  dictionary[\"postcode\"]=input(\"Please enter your postcode:\")\n",
        "\n",
        "  print(dictionary)\n",
        "\n",
        "print_dictionary()"
      ],
      "execution_count": 2,
      "outputs": [
        {
          "output_type": "stream",
          "name": "stdout",
          "text": [
            "Please enter your name:Jack Jones\n",
            "Please enter your age:16\n",
            "Please enter your postcode:AB5 3DF\n",
            "{'name': 'Jack Jones', 'age': 16, 'postcode': 'AB5 3DF'}\n"
          ]
        }
      ]
    },
    {
      "cell_type": "markdown",
      "metadata": {
        "id": "0OtNqNKv7WKm"
      },
      "source": [
        "---\n",
        "### Exercise 2 - create a dictionary\n",
        "\n",
        "Write a function that will create two dictionaries,without values:  \n",
        "\n",
        "1.  person (with keys firstname, surname, birthdate, postcode)  \n",
        "2.  car (with key/value pairs as follows:  make - Vauxhall, model - Corsa, engineSize - 1199, fuelType - unleaded, num_doors - 4)  \n",
        "\n",
        "*   ask the user to enter the values for the person dictionary  \n",
        "*   print, on one line, the person's name from the person dictionary and the make of the car from the car dictionary.\n",
        "\n",
        "Test input:  \n",
        "Jack  \n",
        "Jones  \n",
        "2005/02/02    \n",
        "AB5 3DF  \n",
        "\n",
        "Expected output:  \n",
        "Jack Jones Vauxhall"
      ]
    },
    {
      "cell_type": "code",
      "metadata": {
        "id": "ZyqhaBCC-GdI",
        "colab": {
          "base_uri": "https://localhost:8080/"
        },
        "outputId": "91ee7a6e-fae0-402b-9284-42acd70f4e4a"
      },
      "source": [
        "def create_dictionaries():\n",
        "\n",
        "  person={\n",
        "      \"first_name\":\"\",\n",
        "      \"surname\":\"\",\n",
        "      \"birthdate\":\"\",\n",
        "      \"postcode\":\"\"\n",
        "  }\n",
        "\n",
        "  car={\n",
        "      \"make\":\"Vauxhall\",\n",
        "      \"model\":\"Corsa\",\n",
        "      \"engine_size\":1199,\n",
        "      \"fuel_type\":\"unleaded\",\n",
        "      \"num_doors\":4\n",
        "  }\n",
        "\n",
        "  person[\"first_name\"]=input(\"Please enter your first name:\")\n",
        "  person[\"surname\"]=input(\"Please enter your surname:\")\n",
        "  person[\"birthdate\"]=input(\"Please enter your birthdate:\")\n",
        "  person[\"postcode\"]=input(\"Please enter your postcode:\")\n",
        "\n",
        "  print(person[\"first_name\"],person[\"surname\"],car[\"make\"])\n",
        "\n",
        "create_dictionaries()"
      ],
      "execution_count": 2,
      "outputs": [
        {
          "output_type": "stream",
          "name": "stdout",
          "text": [
            "Please enter your first name:Jack\n",
            "Please enter your surname:Jones\n",
            "Please enter your birthdate:2005/02/02\n",
            "Please enter your postcode:AB5 3DF\n",
            "Jack Jones Vauxhall\n"
          ]
        }
      ]
    },
    {
      "cell_type": "markdown",
      "metadata": {
        "id": "gYuuOUYw-G4I"
      },
      "source": [
        "---\n",
        "### Exercise 3 - check dictionary values\n",
        "\n",
        "Write a new function which will:\n",
        "\n",
        "*  set up the same two dictionaries as in Exercise 2  \n",
        "*  ask the user to enter the details to complete the person record  \n",
        "*  calculate the person's age  \n",
        "*  if the person is under 17 then print a message to say that they can't buy a car as they are too young to drive\n",
        "*  else if the person is under 25 then print a message to say that an engine size under 1200 is recommended  \n",
        "*  ask the user to enter the make of car that the person is looking for  \n",
        "*  if the user enters the same make as that stored in the car record, then print a message to say that you have one car of that make in stock and print all the details of the car that you have the record for\n",
        "*  else (if the user enters any other car make) then print a message to say sorry that you don't have any cars of that make in stock\n",
        "*  print a message to say that the user can get more details for stockist in the <user's postcode> area if they call 01234567890\n",
        "*  print a message to say \"Thank you <user's name> for using our site\"  \n",
        "\n",
        "Test input:  \n",
        "Jack  \n",
        "Jones  \n",
        "2005/02/02  \n",
        "AB5 3DF  \n",
        "Vauxhall  \n",
        "\n",
        "Expected output:  \n",
        "You are too young to drive\n",
        "\n",
        "Test input:  \n",
        "John  \n",
        "Jones  \n",
        "2003/02/02  \n",
        "AB5 3DF  \n",
        "Vauxhall\n",
        "\n",
        "Expected output:  \n",
        "An engine size under 1200 is recommended  \n",
        "We have one Vauxhall in stock, details:  \n",
        "Make - Vauxhall    \n",
        "Model - Corsa    \n",
        "Engine size - 1199  \n",
        "Fuel type - unleaded   \n",
        "Number of doors - 4  \n",
        "You can get more details of stockists near AB5 3DF on 01234567890  \n",
        "Thank you John Jones for using our site.     \n",
        "\n",
        "Test input:  \n",
        "John  \n",
        "Jones  \n",
        "2003/02/02  \n",
        "AB5 3DF  \n",
        "Ford  \n",
        "\n",
        "Expected output:  \n",
        "An engine size under 1200 is recommended  \n",
        "Sorry, we don't have any of that make in stock  \n"
      ]
    },
    {
      "cell_type": "code",
      "metadata": {
        "id": "Wp9Il2JG_hDh",
        "colab": {
          "base_uri": "https://localhost:8080/"
        },
        "outputId": "eef1d7de-61c9-448f-ae78-f8ff3b969e36"
      },
      "source": [
        "from datetime import datetime\n",
        "\n",
        "def create_detailed_dictionaries():\n",
        "\n",
        "  person={\n",
        "      \"first_name\":\"\",\n",
        "      \"surname\":\"\",\n",
        "      \"birthdate\":\"\",\n",
        "      \"postcode\":\"\"\n",
        "  }\n",
        "\n",
        "  car={\n",
        "      \"make\":\"Vauxhall\",\n",
        "      \"model\":\"Corsa\",\n",
        "      \"engine_size\":1199,\n",
        "      \"fuel_type\":\"unleaded\",\n",
        "      \"num_doors\":4\n",
        "  }\n",
        "\n",
        "  person[\"first_name\"]=input(\"Please enter your first name:\")\n",
        "  person[\"surname\"]=input(\"Please enter your surname:\")\n",
        "  person[\"birthdate\"]=input(\"Please enter your birthdate:\")\n",
        "\n",
        "  birth_date=datetime.strptime(person[\"birthdate\"],'%d/%m/%Y')\n",
        "  age=((datetime.today()-birth_date).days//365.25)\n",
        "\n",
        "  if age>=17:\n",
        "    person[\"postcode\"]=input(\"Please enter your postcode:\")\n",
        "    if age<25:\n",
        "      print(\"As you are under 25 years old, we would recommend an engine size under 1200.\")\n",
        "    desired_car=input(\"What make of car are you looking for?\")\n",
        "    if desired_car==car[\"make\"]:\n",
        "      print(\"We have one\",desired_car,\"in stock, details:\")\n",
        "      for x,y in car.items():\n",
        "        print(x,y)\n",
        "    else:\n",
        "      print(\"Sorry, we don't have any vehicles of that make in stock.\")\n",
        "    print(\"You can get more details for stockists in the\",person[\"postcode\"],\"area if you call 01234567890.\")\n",
        "    print(\"Thank you\",person[\"first_name\"],person[\"surname\"],\"for using our site.\")\n",
        "  else:\n",
        "    print(\"Sorry, you cannot buy a car as you are too young to drive.\")\n",
        "\n",
        "create_detailed_dictionaries()"
      ],
      "execution_count": 10,
      "outputs": [
        {
          "output_type": "stream",
          "name": "stdout",
          "text": [
            "Please enter your first name:John\n",
            "Please enter your surname:Jones\n",
            "Please enter your birthdate:20/06/2000\n",
            "Please enter your postcode:AB5 3DF\n",
            "As you are under 25 years old, we would recommend an engine size under 1200.\n",
            "What make of car are you looking for?Ford\n",
            "Sorry, we don't have any vehicles of that make in stock.\n",
            "You can get more details for stockists in the AB5 3DF area if you call 01234567890.\n",
            "Thank you John Jones for using our site.\n"
          ]
        }
      ]
    },
    {
      "cell_type": "markdown",
      "metadata": {
        "id": "I6dUiRwn7Gkg"
      },
      "source": [
        "---\n",
        "### Exercise 4 - print keys and values\n",
        "\n",
        "Two dictionaries have been created below.  You can print a list of the dictionary's keys using `dictionary_name.keys()` and the values using `dictionary_name.values()`\n",
        "\n",
        "Write a function which will accept a dictionary as a parameter and will:  \n",
        "*  print the dictionary keys as a list   \n",
        "*  print the dictionary values as a list  \n",
        "\n",
        "*Hint*:  you will need to cast the keys as a list (`list(dictionary_name.keys()`)  and do the same for the values.\n",
        "\n",
        "**Expected Output**\n",
        "\n",
        "Input: English  \n",
        "Output:\n",
        "['Andy', 'Angela']  \n",
        "[95, 53]  \n",
        "\n",
        "Input: Maths  \n",
        "Output:  \n",
        "['Andy', 'Angela']  \n",
        "[58, 72]\n",
        "\n",
        "\n",
        "\n"
      ]
    },
    {
      "cell_type": "code",
      "source": [
        "def display_dictionary():\n",
        "\n",
        "  english_scores={'Andy':95,'Angela':53}\n",
        "  maths_scores={'Andy':58,'Angela':72}\n",
        "\n",
        "  english_list=list(english_scores.keys())\n",
        "  english_values=list(english_scores.values())\n",
        "  maths_list=list(maths_scores.keys())\n",
        "  maths_values=list(maths_scores.values())\n",
        "\n",
        "  subject=input(\"Enter your choice of subject ('Maths' or 'English'):\")\n",
        "\n",
        "  while subject!=\"Maths\" and subject!=\"English\":\n",
        "    print(\"Input was not 'Maths' nor 'English'; please enter a valid input.\")\n",
        "    subject=input(\"Enter your choice of subject ('Maths' or 'English'):\")\n",
        "  if subject==\"Maths\":\n",
        "    print(maths_list)\n",
        "    print(maths_values)\n",
        "  elif subject==\"English\":\n",
        "    print(english_list)\n",
        "    print(english_values)\n",
        "\n",
        "display_dictionary()"
      ],
      "metadata": {
        "colab": {
          "base_uri": "https://localhost:8080/"
        },
        "id": "lzFU8dXwjoyI",
        "outputId": "1488536f-4ae1-4707-ecf3-ca541c2ac3bc"
      },
      "execution_count": 28,
      "outputs": [
        {
          "output_type": "stream",
          "name": "stdout",
          "text": [
            "Enter your choice of subject ('Maths' or 'English'):math\n",
            "Input was not 'Maths' nor 'English'; please enter a valid input.\n",
            "Enter your choice of subject ('Maths' or 'English'):Maths\n",
            "['Andy', 'Angela']\n",
            "[58, 72]\n"
          ]
        }
      ]
    },
    {
      "cell_type": "markdown",
      "metadata": {
        "id": "segSpkmBFSJl"
      },
      "source": [
        "---\n",
        "### Exercise 5 - add field\n",
        "\n",
        "Write a function which will:\n",
        "\n",
        "*  create a new dictionary called **science_scores** with values of 0 for both Andy and Angela\n",
        "*  update Andy's score for science to 73 and Angela's score to 73   \n",
        "*  create a new key/value pair by adding another learner to the `science_scores`  dictionary (George has a score of 55)    \n",
        "*  print the `science_scores` dictionary to check results  \n",
        "\n",
        "Expected Output\n",
        "\n",
        "{'Andy': 73, 'Angela': 73, 'George': 55}"
      ]
    },
    {
      "cell_type": "code",
      "metadata": {
        "id": "BL1JM-Z7Gttf",
        "colab": {
          "base_uri": "https://localhost:8080/"
        },
        "outputId": "2d3d8491-389c-42d3-9561-47ea422e11d5"
      },
      "source": [
        "def science_dictionary():\n",
        "\n",
        "  science_scores={'Andy':0,'Angela':0}\n",
        "  science_scores['Andy']=73\n",
        "  science_scores['Angela']=73\n",
        "  science_scores['George']=55\n",
        "\n",
        "  print(science_scores)\n",
        "\n",
        "science_dictionary()"
      ],
      "execution_count": 31,
      "outputs": [
        {
          "output_type": "stream",
          "name": "stdout",
          "text": [
            "{'Andy': 73, 'Angela': 73, 'George': 55}\n"
          ]
        }
      ]
    },
    {
      "cell_type": "markdown",
      "metadata": {
        "id": "_Vzv0zlHGt-C"
      },
      "source": [
        "---\n",
        "### Exercise 6 - loop through keys/value pairs\n",
        "\n",
        "Write a function which will use a *for* loop to print the each key/value pair in the science dictionary (recreate this dictionary in this function)\n",
        "\n",
        "*(Hint: you can iterate through the key/value pairs in the dictionary in the same way as you iterate through a loop (e.g. for record in dictionary) and print the record (which is the key) and its value)*\n",
        "\n",
        "Expected output:  \n",
        "\n",
        "Angela 72  \n",
        "Andy 72  \n",
        "George 55  "
      ]
    },
    {
      "cell_type": "code",
      "metadata": {
        "id": "JL40_-W-Hxnt",
        "colab": {
          "base_uri": "https://localhost:8080/"
        },
        "outputId": "ae4ff788-0627-4724-c41e-5c5492af471b"
      },
      "source": [
        "def loops_and_dictionaries():\n",
        "\n",
        "  science_scores={'Andy':0,'Angela':0}\n",
        "  science_scores['Andy']=73\n",
        "  science_scores['Angela']=73\n",
        "  science_scores['George']=55\n",
        "\n",
        "  for x,y in science_scores.items():\n",
        "    print(x,y)\n",
        "\n",
        "loops_and_dictionaries()"
      ],
      "execution_count": 38,
      "outputs": [
        {
          "output_type": "stream",
          "name": "stdout",
          "text": [
            "Andy 73\n",
            "Angela 73\n",
            "George 55\n"
          ]
        }
      ]
    },
    {
      "cell_type": "markdown",
      "metadata": {
        "id": "G9wamxzRJdrE"
      },
      "source": [
        "---\n",
        "### Exercise 7 - generate new dictionary  \n",
        "\n",
        "Write a functions which will:\n",
        "*  create a new dictionary where the keys are numbers between 1 and 15 (both included) and the values are square of keys\n",
        "*  print the dictionary\n",
        "\n",
        "Expected output:  \n",
        "{1: 1, 2: 4, 3: 9, 4: 16, 5: 25, 6: 36, 7: 49, 8: 64, 9: 81, 10: 100, 11: 121, 12: 144, 13: 169, 14: 196, 15: 225}"
      ]
    },
    {
      "cell_type": "code",
      "metadata": {
        "id": "1-LI-LVrJ--N",
        "colab": {
          "base_uri": "https://localhost:8080/"
        },
        "outputId": "2bc43c1c-9b38-4cc3-c420-5e5faf050e35"
      },
      "source": [
        "def keys_squared():\n",
        "\n",
        "  keys_squared={}\n",
        "\n",
        "  for i in range(1,16):\n",
        "    keys_squared[i]=i*i\n",
        "\n",
        "  print(keys_squared)\n",
        "\n",
        "keys_squared()"
      ],
      "execution_count": 61,
      "outputs": [
        {
          "output_type": "stream",
          "name": "stdout",
          "text": [
            "{1: 1, 2: 4, 3: 9, 4: 16, 5: 25, 6: 36, 7: 49, 8: 64, 9: 81, 10: 100, 11: 121, 12: 144, 13: 169, 14: 196, 15: 225}\n"
          ]
        }
      ]
    },
    {
      "cell_type": "markdown",
      "metadata": {
        "id": "t0y4mefwJ_jQ"
      },
      "source": [
        "---\n",
        "### Exercise 8 - colour dictionary  \n",
        "\n",
        "Write a function which will:  \n",
        "*  create a new dictionary record called colour_codes with the values 'red' - '#FF0000', 'green' - '#008000', 'black' - '#000000', 'white' - '#FFFFFF'\n",
        "*  add a new colour code:  'blue' - '#0000FF'    \n",
        "*  remove the colours black and white from the dictionary  \n",
        "\n",
        "*Hint:  there is a list of methods [here](https://www.w3schools.com/python/python_ref_dictionary.asp)*  "
      ]
    },
    {
      "cell_type": "code",
      "metadata": {
        "id": "yod1mUNOMeWg",
        "colab": {
          "base_uri": "https://localhost:8080/"
        },
        "outputId": "8757bdd2-dc3c-4a9b-b7ea-d8f771087158"
      },
      "source": [
        "def colour_dictionary():\n",
        "\n",
        "  colour_codes={'red':'#FF0000','green':'#008000','black':'#000000','white':'#FFFFFF'}\n",
        "  colour_codes['blue']='#0000FF'\n",
        "  colour_codes.pop('black')\n",
        "  colour_codes.pop('white')\n",
        "\n",
        "  print(colour_codes)\n",
        "\n",
        "colour_dictionary()"
      ],
      "execution_count": 64,
      "outputs": [
        {
          "output_type": "stream",
          "name": "stdout",
          "text": [
            "{'red': '#FF0000', 'green': '#008000', 'blue': '#0000FF'}\n"
          ]
        }
      ]
    },
    {
      "cell_type": "markdown",
      "metadata": {
        "id": "gjos_0vuMeyS"
      },
      "source": [
        "---\n",
        "### Exercise 9 - item tuples  \n",
        "\n",
        "Write a function which will:  \n",
        "*  create a new dictionary containing the colour codes for red, green, blue, black and white\n",
        "*  print the key/value pairs of a dictionary as a list of tuples  \n",
        "\n",
        "*Hint:  iterate through colours.items()*"
      ]
    },
    {
      "cell_type": "code",
      "metadata": {
        "id": "EzuMkUypOKTY",
        "colab": {
          "base_uri": "https://localhost:8080/"
        },
        "outputId": "05541373-0e94-41d2-bb4c-a42ecf83a6da"
      },
      "source": [
        "def new_colour_dictionary():\n",
        "\n",
        "  new_colour={'red':'#FF0000','green':'#008000','blue':'#0000FF','black':'#000000','white':'#FFFFFF'}\n",
        "\n",
        "  for x,y in new_colour.items():\n",
        "    print(x,y)\n",
        "\n",
        "new_colour_dictionary()"
      ],
      "execution_count": 66,
      "outputs": [
        {
          "output_type": "stream",
          "name": "stdout",
          "text": [
            "red #FF0000\n",
            "green #008000\n",
            "blue #0000FF\n",
            "black #000000\n",
            "white #FFFFFF\n"
          ]
        }
      ]
    },
    {
      "cell_type": "markdown",
      "metadata": {
        "id": "Jw1ot10cOc6r"
      },
      "source": [
        "---\n",
        "### Exercise 10 - check if empty\n",
        "Taken from w3resouce.com  \n",
        "\n",
        "Write a function which will check if a dictionary is empty or not\n",
        "\n",
        "*Hint:  you can use bool(dictionary_name), if the dictionary is empty then bool(dictionary_name will be false)*\n",
        "\n",
        "Test 1 sample data:\n",
        "{}\n",
        "\n",
        "Expected output:\n",
        "Dictionary is empty  \n",
        "\n",
        "Test 2 sample data:  \n",
        "{\"name\":\"Groucho\", \"occupation\":\"comedian\"}\n",
        "\n",
        "Expected output:  \n",
        "Dictionary is not empty"
      ]
    },
    {
      "cell_type": "code",
      "metadata": {
        "id": "7UdM1TfwRqnt",
        "colab": {
          "base_uri": "https://localhost:8080/"
        },
        "outputId": "403d151f-b082-41bb-8234-154d3bb0ceaf"
      },
      "source": [
        "def check_if_empty():\n",
        "\n",
        "  sample_data={}\n",
        "  print(bool(sample_data))\n",
        "\n",
        "  sample_date_two={\"name\":\"Groucho\", \"occupation\":\"comedian\"}\n",
        "  print(bool(sample_date_two))\n",
        "\n",
        "check_if_empty()"
      ],
      "execution_count": 70,
      "outputs": [
        {
          "output_type": "stream",
          "name": "stdout",
          "text": [
            "False\n",
            "True\n"
          ]
        }
      ]
    }
  ]
}