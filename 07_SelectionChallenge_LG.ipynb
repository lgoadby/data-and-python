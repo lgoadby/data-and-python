{
  "nbformat": 4,
  "nbformat_minor": 0,
  "metadata": {
    "colab": {
      "provenance": [],
      "include_colab_link": true
    },
    "kernelspec": {
      "name": "python3",
      "display_name": "Python 3"
    }
  },
  "cells": [
    {
      "cell_type": "markdown",
      "metadata": {
        "id": "view-in-github",
        "colab_type": "text"
      },
      "source": [
        "<a href=\"https://colab.research.google.com/github/lgoadby/data-and-python/blob/main/07_SelectionChallenge_LG.ipynb\" target=\"_parent\"><img src=\"https://colab.research.google.com/assets/colab-badge.svg\" alt=\"Open In Colab\"/></a>"
      ]
    },
    {
      "cell_type": "markdown",
      "metadata": {
        "id": "-QxAKPD8DZfj"
      },
      "source": [
        "# Three selection challenges\n",
        "\n",
        "---\n"
      ]
    },
    {
      "cell_type": "markdown",
      "metadata": {
        "id": "2KYUALILDcM9"
      },
      "source": [
        "### Challenge 1 - password format  \n",
        "\n",
        "Write a function called **check_password_valid()** which will check the validity of a **password** input by a user.\n",
        "\n",
        "Rules for a valid password are:  \n",
        "\n",
        "*  At least 1 letter between [a-z] and 1 letter between [A-Z].\n",
        "*  At least 1 number between [0-9].\n",
        "*  At least 1 character from [$#@].\n",
        "*  Minimum length 6 characters.\n",
        "*  Maximum length 16 characters.  \n",
        "\n",
        "Let the user know if the `password` they have typed is valid and, if not, where was the first error.\n",
        "\n",
        "*Hint:  to test if a set of characters is present in a password String, you can use re.search('[character set]', `password`)*  \n",
        "\n",
        "Example:   \n",
        "*if re.search('[a-z]',`password`):*    \n",
        "if there is at least 1 character a-z in the password, re.search will not be None.\n",
        "\n",
        "**re** is a pre-written Python function for pattern searching in Strings.  It has been imported for you in the code cell below.  "
      ]
    },
    {
      "cell_type": "code",
      "metadata": {
        "id": "8wBK9IA4BO2e",
        "colab": {
          "base_uri": "https://localhost:8080/"
        },
        "outputId": "de9e1a10-1f17-43b1-d8e5-faa09203ae77"
      },
      "source": [
        "import re\n",
        "\n",
        "def check_password_valid():\n",
        "\n",
        "  password=input(\"Enter your password here:\")\n",
        "  if not re.search('[a-z]',password):\n",
        "    print(\"Password must contain a character [a-z]\")\n",
        "  elif not re.search('[A-Z]',password):\n",
        "    print(\"Password must contain a character [A-Z]\")\n",
        "  elif not re.search('[0-9]',password):\n",
        "    print(\"Password must contain a number 0-9\")\n",
        "  elif not re.search('[$#@]',password):\n",
        "    print(\"Password must contain the character $, # or @\")\n",
        "  elif len(password)<6:\n",
        "    print(\"Password must be a minimum of 6 characters\")\n",
        "  elif len(password)>16:\n",
        "    print(\"Password must be a maximum of 16 characters\")\n",
        "  else:\n",
        "    print(\"Your password has been accepted\")\n",
        "\n",
        "check_password_valid()"
      ],
      "execution_count": 10,
      "outputs": [
        {
          "output_type": "stream",
          "name": "stdout",
          "text": [
            "Enter your password here:aBc4d$\n",
            "Your password has been accepted\n"
          ]
        }
      ]
    },
    {
      "cell_type": "markdown",
      "metadata": {
        "id": "f0R4GYTEFQS-"
      },
      "source": [
        "---\n",
        "### Challenge 2 - triangle shape  \n",
        "\n",
        "Write a function called **evaluate_triangle_shape()** which will check if a triangle is equilateral, isosceles or scalene, based on the three side lengths entered by a user (**x**, **y** and **z**.\n",
        "\n",
        "An equilateral triangle is a triangle in which all three sides are equal.\n",
        "A scalene triangle is a triangle that has three unequal sides.\n",
        "An isosceles triangle is a triangle with (at least) two equal sides.\n",
        "\n",
        "For example:  \n",
        "A triange with side lengths                                 \n",
        "x: 6                                                                    \n",
        "y: 8                                                                    \n",
        "z: 12                                                                   \n",
        "is a *Scalene triangle*\n",
        "\n",
        "A triangle with side lengths\n",
        "x:5  \n",
        "y:3   \n",
        "z:5  \n",
        "is an *Isosceles triangle*"
      ]
    },
    {
      "cell_type": "code",
      "metadata": {
        "id": "oBgl4ro1DVL0",
        "colab": {
          "base_uri": "https://localhost:8080/"
        },
        "outputId": "382a7d06-0424-45ca-daab-8fad5ed5ea63"
      },
      "source": [
        "def evaluate_triangle_shape():\n",
        "\n",
        "  x=float(input(\"Enter the length of side x:\"))\n",
        "  y=float(input(\"Enter the length of side y:\"))\n",
        "  z=float(input(\"Enter the length of side z:\"))\n",
        "\n",
        "  if x==y==z:\n",
        "    print(\"This triangle is an equilateral triangle\")\n",
        "  elif x!=y and y!=z and x!=z:\n",
        "    print(\"This triangle is a scalene triangle\")\n",
        "  elif x==y or y==z or x==z and x!=y!=z:\n",
        "    print(\"This triangle is an isosceles triangle\")\n",
        "\n",
        "evaluate_triangle_shape()"
      ],
      "execution_count": 4,
      "outputs": [
        {
          "output_type": "stream",
          "name": "stdout",
          "text": [
            "Enter the length of side x:5\n",
            "Enter the length of side y:5\n",
            "Enter the length of side z:5\n",
            "This triangle is an equilateral triangle\n"
          ]
        }
      ]
    },
    {
      "cell_type": "markdown",
      "metadata": {
        "id": "hr2EotkqG33l"
      },
      "source": [
        "---\n",
        "### Challenge 3 - which season\n",
        "\n",
        "Write a function called **determine_season()** which will ask the user to enter two integers representing a **month** and **day** and prints the season for that month and day.\n",
        "\n",
        "Note:  for this exercise the season dates are:\n",
        "*  Winter December 21 to March 20    \n",
        "*  Spring March 21 to June 20  \n",
        "*  Summer June 21 to September 20  \n",
        "*  Autumn September 21 to December 20\n",
        "\n",
        "Test input:  \n",
        "Input the month (e.g. January, February etc.): 7                     \n",
        "Input the day: 31                                                       \n",
        "\n",
        "Expected output:  \n",
        "Season is summer\n",
        "\n",
        "*Note: this will require multiple and or or operators and you should use brackets to help Python know which operations to do first*  \n",
        "\n",
        "*For an extra challenge you can check that the day is valid for the month*"
      ]
    },
    {
      "cell_type": "code",
      "metadata": {
        "id": "cvbfz8nzG4IL",
        "colab": {
          "base_uri": "https://localhost:8080/"
        },
        "outputId": "b82325a8-c763-4fa7-bc43-083e8f4d9eb7"
      },
      "source": [
        "def determine_season():\n",
        "\n",
        "  month=int(input(\"Enter an integer that represents the month (e.g. 1 represents January, 12 represents December):\"))\n",
        "  day=int(input(\"Enter the day of the month (1-31):\"))\n",
        "\n",
        "  if (month==12 and day>=21 and day<=31) or (month==1 and day>=1 and day<=31) or (month==2 and day>1 and day<29) or (month==3 and day>=1 and day<=20):\n",
        "    print(\"Winter\")\n",
        "  elif (month==3 and day>=21 and day<=31) or (month==4 and day>=1 and day<=30) or (month==5 and day>=1 and day<=31) or (month==6 and day<=20):\n",
        "    print(\"Spring\")\n",
        "  elif (month==6 and day>=21 and day<=30) or (month==7 and day>=1 and day<=31) or (month==8 and day>=1 and day<=31):\n",
        "    print(\"Summer\")\n",
        "  elif (month==9 and day>=21 and day<=30) or (month==10 and day>=1 and day<=31) or (month==11 and day>=1 and day<=30) or (month==12 and day<=20):\n",
        "    print(\"Autumn\")\n",
        "  elif month<1 or month>12:\n",
        "    print(\"Month value must be between 1 and 12 for the date to be valid\")\n",
        "  else:\n",
        "    print(\"Date is invalid\")\n",
        "\n",
        "determine_season()"
      ],
      "execution_count": 15,
      "outputs": [
        {
          "output_type": "stream",
          "name": "stdout",
          "text": [
            "Enter an integer that represents the month (e.g. 1 represents January, 12 represents December):12\n",
            "Enter the day of the month (1-31):23\n",
            "Winter\n"
          ]
        }
      ]
    }
  ]
}