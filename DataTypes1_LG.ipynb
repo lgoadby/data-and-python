{
  "nbformat": 4,
  "nbformat_minor": 0,
  "metadata": {
    "colab": {
      "provenance": [],
      "include_colab_link": true
    },
    "kernelspec": {
      "name": "python3",
      "display_name": "Python 3"
    }
  },
  "cells": [
    {
      "cell_type": "markdown",
      "metadata": {
        "id": "view-in-github",
        "colab_type": "text"
      },
      "source": [
        "<a href=\"https://colab.research.google.com/github/lgoadby/data-and-python/blob/main/DataTypes1_LG.ipynb\" target=\"_parent\"><img src=\"https://colab.research.google.com/assets/colab-badge.svg\" alt=\"Open In Colab\"/></a>"
      ]
    },
    {
      "cell_type": "markdown",
      "metadata": {
        "id": "hfYzBHsYgy0C"
      },
      "source": [
        "# Data types and Variables\n",
        "---\n",
        "\n",
        "\n",
        "**Recap**: Variables can store data of different types.  \n",
        "*   **int** (whole numbers, e.g. 4, 523, 1984)  \n",
        "*   **float** (decimal numbers e.g. 4.3, )  \n",
        "*   **str** (strings of characters)  \n",
        "*   **bool** (True or False)  \n",
        "\n",
        "and can be stored in groups (**lists, tuples, dictionaries,** etc)\n",
        "\n",
        "You can '**assign**' a value to a variable using the **=** sign.\n",
        "\n",
        "Once a variable has been assigned a value it will decide what type it is from that value. For example:  \n",
        "firstname = “Monty”  \n",
        "age = 20  \n",
        "\n",
        "*firstname* is now a *str* variable (a string of characters) *age* is now an *int* variable (a whole number)  \n",
        "\n",
        "Once a variable knows its type you will only be able to use it for processes that are relevant to that type. For example, you won't be able to add firstname and age together because firstname is a word and age is a number. You would, however, be able to add 1 to the age  \n",
        "\n",
        "age = age + 1  \n",
        "\n",
        "age is now 1 bigger than it was before\n"
      ]
    },
    {
      "cell_type": "markdown",
      "metadata": {
        "id": "bUfEgyAJBgxX"
      },
      "source": [
        "## Using variables of different types and functions\n",
        "----\n",
        "### Exercise 1\n",
        "The cell below contains a function. Functions are named sets of instructions that do one particular thing, often creating a new set of data but sometimes just setting something up.  \n",
        "\n",
        "A function starts with the keyword def (short for define or definition). All instructions below the definition are indented and this indicates that they are part of that function. A function runs when its name is used outside the function (here it is not indented). The indentation is important, note where the code is and isn't indented.  \n",
        "\n",
        "*  create a variable called **name** and assign it a value (any name)  \n",
        "*  print the message “Hello” name  \n",
        "*  change the value of `name` and run the code again to get a new message"
      ]
    },
    {
      "cell_type": "code",
      "metadata": {
        "id": "4oPwx_yTf-yt",
        "colab": {
          "base_uri": "https://localhost:8080/"
        },
        "outputId": "399777dc-dbe8-47e3-b71a-2df70d28758c"
      },
      "source": [
        "def print_welcome():\n",
        "   # create the variable called name below here (indented like this line) and add the instruction print(\"Hello\",name)\n",
        "  name=\"Lauren\"\n",
        "  print(\"Hello\",name)\n",
        "\n",
        "\n",
        "print_welcome()"
      ],
      "execution_count": 6,
      "outputs": [
        {
          "output_type": "stream",
          "name": "stdout",
          "text": [
            "Hello Lauren\n"
          ]
        }
      ]
    },
    {
      "cell_type": "markdown",
      "metadata": {
        "id": "apeD48hhB1Ns"
      },
      "source": [
        "----\n",
        "### Exercise 2\n",
        "*  create two variables **num1** and **num2** and assign them each a whole number  \n",
        "*  create a third variable **total** which will store the sum of num1 + num2  \n",
        "*  run the code.  \n",
        "\n",
        "Change the value of one of the numbers and run the code again to get new messages and a new total."
      ]
    },
    {
      "cell_type": "code",
      "metadata": {
        "id": "T6WtdKMiCGh-",
        "colab": {
          "base_uri": "https://localhost:8080/"
        },
        "outputId": "25a7c4cc-7367-4f9e-8bfa-547e731bdbfe"
      },
      "source": [
        "def print_total():\n",
        "  # add your code below here\n",
        "  num1=20\n",
        "  num2=3\n",
        "  total=23\n",
        "\n",
        "  print(num1, \"+\", num2, \"=\", total)\n",
        "\n",
        "print_total()"
      ],
      "execution_count": 8,
      "outputs": [
        {
          "output_type": "stream",
          "name": "stdout",
          "text": [
            "20 + 3 = 23\n"
          ]
        }
      ]
    },
    {
      "cell_type": "markdown",
      "metadata": {
        "id": "Vc435xArCR41"
      },
      "source": [
        "---\n",
        "### Exercise 3 - variables of different types\n",
        "*  create a variable called **name** and assign it the value \"Billy\"  \n",
        "*  create a variable called **age** and assign it the value 18  \n",
        "*  print a message \"Hello `name` you are `age` years old\"\n",
        "\n",
        "Test input:  \n",
        "Billy  \n",
        "18  \n",
        "\n",
        "Expected output:  \n",
        "Hello Billy you are 18 years old"
      ]
    },
    {
      "cell_type": "code",
      "metadata": {
        "id": "EmO5dR9nCYpE",
        "colab": {
          "base_uri": "https://localhost:8080/"
        },
        "outputId": "edb7c90a-95da-4755-c756-d667015a4b96"
      },
      "source": [
        "def print_info():\n",
        "   # add your code below here\n",
        "  name=\"Billy\"\n",
        "  age=18\n",
        "\n",
        "  print(\"Hello\",name,\"you are\",age,\"years old\")\n",
        "\n",
        "\n",
        "print_info()"
      ],
      "execution_count": 9,
      "outputs": [
        {
          "output_type": "stream",
          "name": "stdout",
          "text": [
            "Hello Billy you are 18 years old\n"
          ]
        }
      ]
    },
    {
      "cell_type": "markdown",
      "metadata": {
        "id": "xtPVg1k5CklX"
      },
      "source": [
        "---\n",
        "### Exercise 4 - float variables (and writing your own function)\n",
        "Write a function called **print_price()** which will:  \n",
        "\n",
        "*  create a variable called **product** and assign the value \"Chocolate Bar\"  \n",
        "*  create a variable called **cost** and assign the value 1.39  \n",
        "*  print the message `product`, \"costs\", \"£\", `cost`  \n",
        "\n",
        "Expected output:  \n",
        "Chocolate Bar costs £ 1.39"
      ]
    },
    {
      "cell_type": "code",
      "metadata": {
        "id": "uUqY-_PbCsfN",
        "colab": {
          "base_uri": "https://localhost:8080/"
        },
        "outputId": "4ae13ef8-e194-4aad-e88d-1e6f8faafa4c"
      },
      "source": [
        "def print_price():\n",
        "\n",
        "  product=\"Chocolate Bar\"\n",
        "  cost=1.39\n",
        "\n",
        "  print(product,\"costs\",\"£\",cost)\n",
        "\n",
        "print_price()"
      ],
      "execution_count": 12,
      "outputs": [
        {
          "output_type": "stream",
          "name": "stdout",
          "text": [
            "Chocolate Bar costs £ 1.39\n"
          ]
        }
      ]
    },
    {
      "cell_type": "markdown",
      "metadata": {
        "id": "HXK-Dn_eCtDN"
      },
      "source": [
        "---\n",
        "### Exercise 5 - concatenating strings\n",
        "Write a function called **print_full_name()** which will:  \n",
        "\n",
        "*  create variable called **name** and assign it the value \"Monty\"  \n",
        "*  create a variable called **surname** and assign it the value \"Python\"  \n",
        "*  create a variable called **full_name** and assign it the value `name` + \" \" + `surname`  \n",
        "*  print the `full_name`  \n",
        "\n",
        "Expected output:  \n",
        "Monty Python"
      ]
    },
    {
      "cell_type": "code",
      "metadata": {
        "id": "YJeP2teXC0cV",
        "colab": {
          "base_uri": "https://localhost:8080/"
        },
        "outputId": "bb7ce6ce-6c0e-4f54-8249-893f80c4f18c"
      },
      "source": [
        "def print_full_name():\n",
        "\n",
        "  name=\"Monty\"\n",
        "  surname=\"Python\"\n",
        "  full_name=name+\" \"+surname\n",
        "\n",
        "  print(full_name)\n",
        "\n",
        "print_full_name()"
      ],
      "execution_count": 13,
      "outputs": [
        {
          "output_type": "stream",
          "name": "stdout",
          "text": [
            "Monty Python\n"
          ]
        }
      ]
    }
  ]
}